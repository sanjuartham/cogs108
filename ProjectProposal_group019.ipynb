{
 "cells": [
  {
   "cell_type": "markdown",
   "id": "67529f09",
   "metadata": {},
   "source": [
    "# COGS 108 - Project Proposal"
   ]
  },
  {
   "cell_type": "markdown",
   "id": "0e748e90",
   "metadata": {},
   "source": [
    "## Names\n",
    "\n",
    "- Sanjuktha Arhtam\n",
    "- Beatrice Fernandez\n",
    "- Dinh Nguyen\n",
    "- Kaye Falaminiano\n",
    "- Vinuthna Maradana"
   ]
  },
  {
   "cell_type": "markdown",
   "id": "af88795b",
   "metadata": {},
   "source": [
    "## Research Question\n",
    "\n",
    "Which operational, geographical, or patient-experience aspects have the strongest correlation with elevated patient satisfaction scores in hospitals and, how can these aspects be statistically linked to hospital performance metrics to improve patient care?"
   ]
  },
  {
   "cell_type": "markdown",
   "id": "b1521003",
   "metadata": {},
   "source": [
    "## Background & Prior Work\n",
    "\n",
    "We hypothesize that higher staffing levels, favorable geographical locations in higher-income areas, and effective ownership and management significantly enhance hospital ratings. Specifically, we predict that greater staffing improves patient interactions and care quality, affluent area locations correlate with better resources and funding, and ownership influences hospital policies and patient experiences, collectively impacting patient satisfaction."
   ]
  },
  {
   "cell_type": "markdown",
   "id": "b24e2be7",
   "metadata": {},
   "source": [
    "## Hypothesis\n",
    "\n",
    "Patient satisfaction is a fundamental measure of healthcare quality. Understanding the key factors that influence patient satisfaction is essential for improving healthcare delivery. In our project, we aim to identify significant correlations between operational, geographical and patient-related factors and patient satisfaction scores. By doing so, we aim to provide action insights for healthcare administrators and policymakers. We also aim to develop evidence-based strategies to optimize patient care, improve resource allocation and enhance overall hospital performance, creating a win-win situation for both hospitals and patients.\n",
    "\n",
    "A project that was similar to ours was the FinalProjects-SP17/052-FinalProject which was about Flu Demographics [1]. They tried to find if higher flu rate is correlated with lower income regions and used a t-test to see if the discharge/hospitalization rate is dependent on income. This project can be connected to ours as we are both comparing the quality of healthcare provided to patients that come from different backgrounds and demographics. FinalProjects-Wi21/083-FinalProject was also another project that is relatively similar to ours, talking about the correlation between median household income and a person’s likelihood of contracting COVID-19 [2]. While those projects are focused on the correlation between flu/COVID-19 rates and low income communities, ours will also be connecting the patient’s income as well as other factors that likely contribute to the overall quality and satisfaction provided by hospitals to these patients. We will be observing the ratings and reviews that multiple hospitals have in regards to patient care and see what factors play a significant role in why they were given that certain rating. We will be comparing factors in a geographical, financial, and operational context to see what higher rated hospitals have that lower rated hospitals do not and also come up with ideas as to how we can improve patient care for everyone. \n",
    "\n",
    "Hospitals in the U.S. get rated through overall star ratings which was formed by the Centers for Medicare and Medicaid Services (CMS), the five measure groups it uses includes mortality, safety of care, readmission, patient experience and timely & effective care in which they are all equally weighted. The Overall Star Rating based on July 2023 shows that 46.4% of the hospitals got a 3 star or above on this scale and according to these five measure groups [3]. Hospitals that get higher ratings, have better scores in categories like mortality, readmissions, safety and patient experience. Overall, articles mention having better patient satisfaction and lower readmission rates lead to higher hospital ratings [4].\n",
    "\n",
    "[1] https://github.com/COGS108/FinalProjects-Sp17/blob/master/052-FinalProject.ipynb\n",
    "\n",
    "[2] https://github.com/COGS108/FinalProjects-Wi21/blob/main/FinalProject_group083.ipynb\n",
    "\n",
    "[3] https://data.cms.gov/provider-data/topics/hospitals/overall-hospital-quality-star-rating/\n",
    "\n",
    "[4] https://data.cms.gov/provider-data/topics/hospitals/overall-hospital-quality-star-rating/"
   ]
  },
  {
   "cell_type": "markdown",
   "id": "2d50165c",
   "metadata": {},
   "source": [
    "## Data\n",
    "\n",
    "The ideal dataset for our study would comprehensively cover hospital ratings from patient surveys or government assessments, alongside detailed performance metrics such as clinical outcomes, patient safety indicators, and patient experience scores. It would also include operational data on staffing levels, hospital capacity, and finances. Which is important to our analysis are geographical and demographic data of the hospital locations and the patient populations. We aim to gather data over a one year range from thousands of hospitals and patient surveys, providing a robust basis for our statistical analysis and ensuring the reliability of our findings. This dataset will allow us to explore the impacts of operational, geographic, and demographic factors on hospital ratings effectively."
   ]
  },
  {
   "cell_type": "markdown",
   "id": "4b3aa78b",
   "metadata": {},
   "source": [
    "## Ethics & Privacy\n",
    "\n",
    "In our project, we will prioritize compliance with privacy laws and ethical data use. Our approach involves utilizing datasets that are already de-identified to ensure we uphold privacy standards such as those mandated by HIPAA. This strategy lowers risks associated with personal data breaches and aligns with legal requirements. We also commit to adhering strictly to the terms of use for all data sources, especially those provided by government entities and healthcare facilities, to prevent any legal or ethical violations.\n",
    "\n",
    "Any type of data will inherently have some biases, so we'll aim to use a dataset that is as unbiased as possible. For instance, if most of our data comes from hospitals in wealthy areas, our results might not really represent what's happening in hospitals in less wealthy or rural areas. To fix this, we're going to look closely at who and where the data comes from before we start analyzing it. If we notice that certain types of areas or groups aren't well represented, we'll adjust our methods to try and even things out. By working with a variety of people, including those who work in healthcare and patient advocates, we hope to make sure our project reflects diverse perspectives and helps as many different groups as possible."
   ]
  },
  {
   "cell_type": "markdown",
   "id": "f3c9e1d3",
   "metadata": {},
   "source": [
    "## Team Expectations\n",
    "\n",
    "- Team Expectation 1: Be responsive to group chat via imessage.\n",
    "- Team Expectation 2: Contribute equally to the project in a way that aligns best with each person's skills.\n",
    "- Team Expectation 3: Meet regularly Sunday at 7pm to discuss project week plans.\n",
    "- Team Expectation 4:Meet Fridays (day of submission) at 9 pm to revise and finalize submissions.\n",
    "- Team Expectation 5: Be respectful to each other during conflicts, use communication to come to an agreement as a group.\n",
    "- Team Expectation 6: Update others via iMessage after completing a task or action item to foster communication within the group."
   ]
  },
  {
   "cell_type": "markdown",
   "id": "e187f7c1",
   "metadata": {},
   "source": [
    "## Project Timeline Proposal\n",
    "\n",
    "\n",
    "| Meeting Date | Meeting Time | Completed Before Meeting | Discuss at Meeting |\n",
    "|:------------:|:------------:|:------------------------:|:------------------:|\n",
    "| 5/5          | 7 PM         | Ideas and preference for what role each person will do. | Discuss week 6 plans to have everyone on track to complete Checkpoint 1. |\n",
    "| 5/12         | 7 PM         | Complete goals for week 6. Ready to share ideas. | Discuss week 7 plans to have everyone on track to complete Checkpoint 1. |\n",
    "| 5/17         | 9 PM         | Have dataset(s) we will use in project. Complete the setup of packages required for analysis. Clean the dataset(s). | Final changes needed to complete Checkpoint 1. |\n",
    "| 5/19         | 7 PM         | Ideas and plans for upcoming week. | Discuss week 8 plans to have everyone on track to complete Checkpoint 2. |\n",
    "| 5/26         | 7 PM         | Tasks discussed at the last meeting. | Discuss findings and week 9 plans to have everyone on track to complete Checkpoint 2. |\n",
    "| 5/31         | 9 PM         | Analysis of the data and organized EDA for submission. | Final changes needed to complete Checkpoint 2. |\n",
    "| 6/2          | 7 PM         | Questions, concerns, or ideas. | Discuss plan for week 10 to be on track to complete Final Report & Video by the due date. |\n",
    "| 6/7          | 9 PM         | Detailed explanation of each section for the project. More in-depth data analysis and interpretation of results. Multiple types of data visualizations for readers to understand our findings. | Final changes needed to complete Final Report & Video. |\n"
   ]
  }
 ],
 "metadata": {
  "kernelspec": {
   "display_name": "Python 3 (ipykernel)",
   "language": "python",
   "name": "python3"
  },
  "language_info": {
   "codemirror_mode": {
    "name": "ipython",
    "version": 3
   },
   "file_extension": ".py",
   "mimetype": "text/x-python",
   "name": "python",
   "nbconvert_exporter": "python",
   "pygments_lexer": "ipython3",
   "version": "3.9.5"
  }
 },
 "nbformat": 4,
 "nbformat_minor": 5
}
